{
 "cells": [
  {
   "cell_type": "code",
   "execution_count": 1,
   "metadata": {},
   "outputs": [],
   "source": [
    "%matplotlib inline\n",
    "\n",
    "import pandas as pd\n",
    "import matplotlib.pyplot as plt\n",
    "import numpy as np\n",
    "import sklearn\n",
    "from sklearn.linear_model import LinearRegression\n",
    "import scipy.stats as sps\n",
    "\n",
    "\n"
   ]
  },
  {
   "cell_type": "code",
   "execution_count": null,
   "metadata": {},
   "outputs": [],
   "source": []
  },
  {
   "cell_type": "markdown",
   "metadata": {},
   "source": [
    "## Brief introduction\n",
    "\n",
    "We are analysing the correlation between crime rate and housing prices in London boroughs, where crime rate is the independent variable, housing price is the dependent variable.\n",
    "\n",
    "Crime has many different catagories.\n",
    "\n",
    "$Crime\\ rate = \\frac{total\\ crime\\ in\\ one\\ year}{total\\ population} $\n",
    "\n",
    "Housing price used is the median price.\n",
    "\n"
   ]
  },
  {
   "cell_type": "markdown",
   "metadata": {},
   "source": [
    "### Read data and cleaning"
   ]
  },
  {
   "cell_type": "code",
   "execution_count": 2,
   "metadata": {},
   "outputs": [],
   "source": [
    "crime_original = pd.read_csv('MPS_Borough_Level_Crime_Historic.csv')\n",
    "\n",
    "housing = pd.read_csv('London.Housing.csv')\n",
    "#https://data.london.gov.uk/dataset/london-housing\n",
    "\n",
    "pop_11 = pd.read_csv('census-historic-population-borough.csv',index_col=0)"
   ]
  },
  {
   "cell_type": "markdown",
   "metadata": {},
   "source": [
    "__Clean housing data to only 2011.__\n",
    "\n",
    "Originally it has 1996-2014 data, since we only have 2011 population, we clean housing data to 2011 for consistency. \n",
    "\n",
    "After cleaning, it contains: Borough code, borough name and median house price.\n",
    "\n",
    "Note: converted housing price from string to float"
   ]
  },
  {
   "cell_type": "code",
   "execution_count": 3,
   "metadata": {},
   "outputs": [],
   "source": [
    "housing_11 = housing.drop(housing.loc[:,'1996':'2010'],axis=1).drop(housing.loc[:,'2012':'2014'],axis=1)\n",
    "housing_11.drop(housing_11.index[33:],axis=0,inplace=True)\n",
    "housing_11.drop(housing_11.loc[:,'Unnamed: 21':],axis=1,inplace=True)\n",
    "housing_11.rename(columns={\"2011\": \"median housing price\"},inplace=True)"
   ]
  },
  {
   "cell_type": "code",
   "execution_count": 4,
   "metadata": {},
   "outputs": [
    {
     "data": {
      "text/html": [
       "<div>\n",
       "<style scoped>\n",
       "    .dataframe tbody tr th:only-of-type {\n",
       "        vertical-align: middle;\n",
       "    }\n",
       "\n",
       "    .dataframe tbody tr th {\n",
       "        vertical-align: top;\n",
       "    }\n",
       "\n",
       "    .dataframe thead th {\n",
       "        text-align: right;\n",
       "    }\n",
       "</style>\n",
       "<table border=\"1\" class=\"dataframe\">\n",
       "  <thead>\n",
       "    <tr style=\"text-align: right;\">\n",
       "      <th></th>\n",
       "      <th>Code</th>\n",
       "      <th>Area</th>\n",
       "      <th>median housing price</th>\n",
       "    </tr>\n",
       "  </thead>\n",
       "  <tbody>\n",
       "    <tr>\n",
       "      <th>0</th>\n",
       "      <td>E09000001</td>\n",
       "      <td>City of London</td>\n",
       "      <td>465,000</td>\n",
       "    </tr>\n",
       "    <tr>\n",
       "      <th>1</th>\n",
       "      <td>E09000002</td>\n",
       "      <td>Barking and Dagenham</td>\n",
       "      <td>170,000</td>\n",
       "    </tr>\n",
       "    <tr>\n",
       "      <th>2</th>\n",
       "      <td>E09000003</td>\n",
       "      <td>Barnet</td>\n",
       "      <td>324,000</td>\n",
       "    </tr>\n",
       "    <tr>\n",
       "      <th>3</th>\n",
       "      <td>E09000004</td>\n",
       "      <td>Bexley</td>\n",
       "      <td>215,000</td>\n",
       "    </tr>\n",
       "    <tr>\n",
       "      <th>4</th>\n",
       "      <td>E09000005</td>\n",
       "      <td>Brent</td>\n",
       "      <td>300,000</td>\n",
       "    </tr>\n",
       "  </tbody>\n",
       "</table>\n",
       "</div>"
      ],
      "text/plain": [
       "        Code                  Area median housing price\n",
       "0  E09000001        City of London              465,000\n",
       "1  E09000002  Barking and Dagenham              170,000\n",
       "2  E09000003                Barnet              324,000\n",
       "3  E09000004                Bexley              215,000\n",
       "4  E09000005                 Brent              300,000"
      ]
     },
     "execution_count": 4,
     "metadata": {},
     "output_type": "execute_result"
    }
   ],
   "source": [
    "housing_11.head()"
   ]
  },
  {
   "cell_type": "code",
   "execution_count": 5,
   "metadata": {},
   "outputs": [
    {
     "data": {
      "text/plain": [
       "[<matplotlib.lines.Line2D at 0x7fbf4dcb7210>]"
      ]
     },
     "execution_count": 5,
     "metadata": {},
     "output_type": "execute_result"
    },
    {
     "data": {
      "image/png": "[encoded data removed]",
      "text/plain": [
       "<Figure size 432x288 with 1 Axes>"
      ]
     },
     "metadata": {
      "needs_background": "light"
     },
     "output_type": "display_data"
    }
   ],
   "source": [
    "housing_11['median housing price']=housing_11['median housing price'].astype(str).str.replace(',','')\n",
    "housing_11['median housing price'] = pd.to_numeric(housing_11['median housing price'],errors='coerce')\n",
    "plt.plot(housing_11['median housing price'])"
   ]
  },
  {
   "cell_type": "markdown",
   "metadata": {},
   "source": [
    "__Clean crime data to only 2011.__\n",
    "\n",
    "Originally it has 2008-2018 data.\n",
    "\n",
    "Cleansed data now has borough name, catogory of crime, 2011 total number of crimes. "
   ]
  },
  {
   "cell_type": "code",
   "execution_count": 6,
   "metadata": {},
   "outputs": [
    {
     "data": {
      "text/html": [
       "<div>\n",
       "<style scoped>\n",
       "    .dataframe tbody tr th:only-of-type {\n",
       "        vertical-align: middle;\n",
       "    }\n",
       "\n",
       "    .dataframe tbody tr th {\n",
       "        vertical-align: top;\n",
       "    }\n",
       "\n",
       "    .dataframe thead th {\n",
       "        text-align: right;\n",
       "    }\n",
       "</style>\n",
       "<table border=\"1\" class=\"dataframe\">\n",
       "  <thead>\n",
       "    <tr style=\"text-align: right;\">\n",
       "      <th></th>\n",
       "      <th>Borough</th>\n",
       "      <th>Major Category</th>\n",
       "      <th>Minor Category</th>\n",
       "      <th>200801</th>\n",
       "      <th>200802</th>\n",
       "      <th>200803</th>\n",
       "      <th>200804</th>\n",
       "      <th>200805</th>\n",
       "      <th>200806</th>\n",
       "      <th>200807</th>\n",
       "      <th>...</th>\n",
       "      <th>201803</th>\n",
       "      <th>201804</th>\n",
       "      <th>201805</th>\n",
       "      <th>201806</th>\n",
       "      <th>201807</th>\n",
       "      <th>201808</th>\n",
       "      <th>201809</th>\n",
       "      <th>201810</th>\n",
       "      <th>201811</th>\n",
       "      <th>201812</th>\n",
       "    </tr>\n",
       "  </thead>\n",
       "  <tbody>\n",
       "    <tr>\n",
       "      <th>0</th>\n",
       "      <td>Barking and Dagenham</td>\n",
       "      <td>Burglary</td>\n",
       "      <td>Burglary in a Dwelling</td>\n",
       "      <td>82</td>\n",
       "      <td>71</td>\n",
       "      <td>87</td>\n",
       "      <td>74</td>\n",
       "      <td>74</td>\n",
       "      <td>103</td>\n",
       "      <td>113</td>\n",
       "      <td>...</td>\n",
       "      <td>122</td>\n",
       "      <td>75</td>\n",
       "      <td>93</td>\n",
       "      <td>77</td>\n",
       "      <td>94</td>\n",
       "      <td>84</td>\n",
       "      <td>99</td>\n",
       "      <td>94</td>\n",
       "      <td>106</td>\n",
       "      <td>163</td>\n",
       "    </tr>\n",
       "    <tr>\n",
       "      <th>1</th>\n",
       "      <td>Barking and Dagenham</td>\n",
       "      <td>Burglary</td>\n",
       "      <td>Burglary in Other Buildings</td>\n",
       "      <td>59</td>\n",
       "      <td>68</td>\n",
       "      <td>56</td>\n",
       "      <td>53</td>\n",
       "      <td>57</td>\n",
       "      <td>39</td>\n",
       "      <td>44</td>\n",
       "      <td>...</td>\n",
       "      <td>61</td>\n",
       "      <td>65</td>\n",
       "      <td>39</td>\n",
       "      <td>52</td>\n",
       "      <td>40</td>\n",
       "      <td>36</td>\n",
       "      <td>50</td>\n",
       "      <td>61</td>\n",
       "      <td>60</td>\n",
       "      <td>50</td>\n",
       "    </tr>\n",
       "    <tr>\n",
       "      <th>2</th>\n",
       "      <td>Barking and Dagenham</td>\n",
       "      <td>Criminal Damage</td>\n",
       "      <td>Criminal Damage To Dwelling</td>\n",
       "      <td>79</td>\n",
       "      <td>52</td>\n",
       "      <td>55</td>\n",
       "      <td>73</td>\n",
       "      <td>63</td>\n",
       "      <td>80</td>\n",
       "      <td>73</td>\n",
       "      <td>...</td>\n",
       "      <td>30</td>\n",
       "      <td>29</td>\n",
       "      <td>32</td>\n",
       "      <td>29</td>\n",
       "      <td>21</td>\n",
       "      <td>29</td>\n",
       "      <td>23</td>\n",
       "      <td>35</td>\n",
       "      <td>21</td>\n",
       "      <td>15</td>\n",
       "    </tr>\n",
       "    <tr>\n",
       "      <th>3</th>\n",
       "      <td>Barking and Dagenham</td>\n",
       "      <td>Criminal Damage</td>\n",
       "      <td>Criminal Damage To Motor Vehicle</td>\n",
       "      <td>142</td>\n",
       "      <td>138</td>\n",
       "      <td>118</td>\n",
       "      <td>158</td>\n",
       "      <td>126</td>\n",
       "      <td>96</td>\n",
       "      <td>116</td>\n",
       "      <td>...</td>\n",
       "      <td>53</td>\n",
       "      <td>64</td>\n",
       "      <td>64</td>\n",
       "      <td>67</td>\n",
       "      <td>69</td>\n",
       "      <td>42</td>\n",
       "      <td>38</td>\n",
       "      <td>42</td>\n",
       "      <td>47</td>\n",
       "      <td>33</td>\n",
       "    </tr>\n",
       "    <tr>\n",
       "      <th>4</th>\n",
       "      <td>Barking and Dagenham</td>\n",
       "      <td>Criminal Damage</td>\n",
       "      <td>Criminal Damage To Other Building</td>\n",
       "      <td>20</td>\n",
       "      <td>19</td>\n",
       "      <td>20</td>\n",
       "      <td>23</td>\n",
       "      <td>16</td>\n",
       "      <td>12</td>\n",
       "      <td>17</td>\n",
       "      <td>...</td>\n",
       "      <td>6</td>\n",
       "      <td>9</td>\n",
       "      <td>8</td>\n",
       "      <td>8</td>\n",
       "      <td>7</td>\n",
       "      <td>7</td>\n",
       "      <td>11</td>\n",
       "      <td>5</td>\n",
       "      <td>4</td>\n",
       "      <td>7</td>\n",
       "    </tr>\n",
       "  </tbody>\n",
       "</table>\n",
       "<p>5 rows × 135 columns</p>\n",
       "</div>"
      ],
      "text/plain": [
       "                Borough   Major Category                     Minor Category  \\\n",
       "0  Barking and Dagenham         Burglary             Burglary in a Dwelling   \n",
       "1  Barking and Dagenham         Burglary        Burglary in Other Buildings   \n",
       "2  Barking and Dagenham  Criminal Damage        Criminal Damage To Dwelling   \n",
       "3  Barking and Dagenham  Criminal Damage   Criminal Damage To Motor Vehicle   \n",
       "4  Barking and Dagenham  Criminal Damage  Criminal Damage To Other Building   \n",
       "\n",
       "   200801  200802  200803  200804  200805  200806  200807  ...  201803  \\\n",
       "0      82      71      87      74      74     103     113  ...     122   \n",
       "1      59      68      56      53      57      39      44  ...      61   \n",
       "2      79      52      55      73      63      80      73  ...      30   \n",
       "3     142     138     118     158     126      96     116  ...      53   \n",
       "4      20      19      20      23      16      12      17  ...       6   \n",
       "\n",
       "   201804  201805  201806  201807  201808  201809  201810  201811  201812  \n",
       "0      75      93      77      94      84      99      94     106     163  \n",
       "1      65      39      52      40      36      50      61      60      50  \n",
       "2      29      32      29      21      29      23      35      21      15  \n",
       "3      64      64      67      69      42      38      42      47      33  \n",
       "4       9       8       8       7       7      11       5       4       7  \n",
       "\n",
       "[5 rows x 135 columns]"
      ]
     },
     "execution_count": 6,
     "metadata": {},
     "output_type": "execute_result"
    }
   ],
   "source": [
    "crime_original.head()"
   ]
  },
  {
   "cell_type": "code",
   "execution_count": 7,
   "metadata": {},
   "outputs": [],
   "source": [
    "crime_11=crime_original.drop(crime_original.loc[:,'200801':'201012'],axis=1)\n",
    "crime_11.drop(crime_11.loc[:,'201201':'201812'],axis=1,inplace=True)\n",
    "#crime_11.drop(crime_11.loc[:,'Minor Category'],axis=1,inplace=True)"
   ]
  },
  {
   "cell_type": "code",
   "execution_count": 8,
   "metadata": {},
   "outputs": [
    {
     "data": {
      "text/html": [
       "<div>\n",
       "<style scoped>\n",
       "    .dataframe tbody tr th:only-of-type {\n",
       "        vertical-align: middle;\n",
       "    }\n",
       "\n",
       "    .dataframe tbody tr th {\n",
       "        vertical-align: top;\n",
       "    }\n",
       "\n",
       "    .dataframe thead th {\n",
       "        text-align: right;\n",
       "    }\n",
       "</style>\n",
       "<table border=\"1\" class=\"dataframe\">\n",
       "  <thead>\n",
       "    <tr style=\"text-align: right;\">\n",
       "      <th></th>\n",
       "      <th>Borough</th>\n",
       "      <th>Major Category</th>\n",
       "      <th>Minor Category</th>\n",
       "      <th>2011_total_crime</th>\n",
       "    </tr>\n",
       "  </thead>\n",
       "  <tbody>\n",
       "    <tr>\n",
       "      <th>0</th>\n",
       "      <td>Barking and Dagenham</td>\n",
       "      <td>Burglary</td>\n",
       "      <td>Burglary in a Dwelling</td>\n",
       "      <td>1625</td>\n",
       "    </tr>\n",
       "    <tr>\n",
       "      <th>1</th>\n",
       "      <td>Barking and Dagenham</td>\n",
       "      <td>Burglary</td>\n",
       "      <td>Burglary in Other Buildings</td>\n",
       "      <td>739</td>\n",
       "    </tr>\n",
       "    <tr>\n",
       "      <th>2</th>\n",
       "      <td>Barking and Dagenham</td>\n",
       "      <td>Criminal Damage</td>\n",
       "      <td>Criminal Damage To Dwelling</td>\n",
       "      <td>606</td>\n",
       "    </tr>\n",
       "    <tr>\n",
       "      <th>3</th>\n",
       "      <td>Barking and Dagenham</td>\n",
       "      <td>Criminal Damage</td>\n",
       "      <td>Criminal Damage To Motor Vehicle</td>\n",
       "      <td>881</td>\n",
       "    </tr>\n",
       "    <tr>\n",
       "      <th>4</th>\n",
       "      <td>Barking and Dagenham</td>\n",
       "      <td>Criminal Damage</td>\n",
       "      <td>Criminal Damage To Other Building</td>\n",
       "      <td>180</td>\n",
       "    </tr>\n",
       "  </tbody>\n",
       "</table>\n",
       "</div>"
      ],
      "text/plain": [
       "                Borough   Major Category                     Minor Category  \\\n",
       "0  Barking and Dagenham         Burglary             Burglary in a Dwelling   \n",
       "1  Barking and Dagenham         Burglary        Burglary in Other Buildings   \n",
       "2  Barking and Dagenham  Criminal Damage        Criminal Damage To Dwelling   \n",
       "3  Barking and Dagenham  Criminal Damage   Criminal Damage To Motor Vehicle   \n",
       "4  Barking and Dagenham  Criminal Damage  Criminal Damage To Other Building   \n",
       "\n",
       "   2011_total_crime  \n",
       "0              1625  \n",
       "1               739  \n",
       "2               606  \n",
       "3               881  \n",
       "4               180  "
      ]
     },
     "execution_count": 8,
     "metadata": {},
     "output_type": "execute_result"
    }
   ],
   "source": [
    "crime_11.insert(len(crime_11.columns),'2011_total_crime',crime_11.loc[:,'201101':'201112'].sum(axis=1))\n",
    "crime_11.drop(crime_11.loc[:,'201101':'201112'],axis=1,inplace=True)\n",
    "crime_11.head()\n"
   ]
  },
  {
   "cell_type": "code",
   "execution_count": 9,
   "metadata": {},
   "outputs": [
    {
     "data": {
      "text/plain": [
       "Borough\n",
       "Barking and Dagenham      18730\n",
       "Barnet                    26393\n",
       "Bexley                    12325\n",
       "Brent                     31206\n",
       "Bromley                   22140\n",
       "Camden                    36221\n",
       "Croydon                   32372\n",
       "Ealing                    32879\n",
       "Enfield                   23589\n",
       "Greenwich                 22845\n",
       "Hackney                   27666\n",
       "Hammersmith and Fulham    23675\n",
       "Haringey                  25357\n",
       "Harrow                    14023\n",
       "Havering                  17454\n",
       "Hillingdon                24055\n",
       "Hounslow                  24197\n",
       "Islington                 27524\n",
       "Kensington and Chelsea    20569\n",
       "Kingston upon Thames      11089\n",
       "Lambeth                   36895\n",
       "Lewisham                  27916\n",
       "Merton                    14461\n",
       "Newham                    31910\n",
       "Redbridge                 24883\n",
       "Richmond upon Thames      11984\n",
       "Southwark                 34850\n",
       "Sutton                    11867\n",
       "Tower Hamlets             29411\n",
       "Waltham Forest            25756\n",
       "Wandsworth                23311\n",
       "Westminster               66350\n",
       "Name: 2011_total_crime, dtype: int64"
      ]
     },
     "execution_count": 9,
     "metadata": {},
     "output_type": "execute_result"
    }
   ],
   "source": [
    "crime_11_tot = crime_11.groupby('Borough')['2011_total_crime'].sum()\n",
    "crime_11_tot"
   ]
  },
  {
   "cell_type": "markdown",
   "metadata": {},
   "source": [
    "Pivot table for future references"
   ]
  },
  {
   "cell_type": "code",
   "execution_count": 10,
   "metadata": {},
   "outputs": [],
   "source": [
    "# crime_15_piv = pd.pivot_table(crime_15, values='2014_total', index=['Borough', 'Major Category'], aggfunc=np.sum)\n",
    "# crime_15_piv"
   ]
  },
  {
   "cell_type": "markdown",
   "metadata": {},
   "source": [
    "__Clean population data to 2011.__\n",
    "\n",
    "We have 1801-2011 population census data every decade, clean it to only 2011."
   ]
  },
  {
   "cell_type": "code",
   "execution_count": 11,
   "metadata": {},
   "outputs": [
    {
     "data": {
      "text/html": [
       "<div>\n",
       "<style scoped>\n",
       "    .dataframe tbody tr th:only-of-type {\n",
       "        vertical-align: middle;\n",
       "    }\n",
       "\n",
       "    .dataframe tbody tr th {\n",
       "        vertical-align: top;\n",
       "    }\n",
       "\n",
       "    .dataframe thead th {\n",
       "        text-align: right;\n",
       "    }\n",
       "</style>\n",
       "<table border=\"1\" class=\"dataframe\">\n",
       "  <thead>\n",
       "    <tr style=\"text-align: right;\">\n",
       "      <th></th>\n",
       "      <th>Persons-1801</th>\n",
       "      <th>Persons-1811</th>\n",
       "      <th>Persons-1821</th>\n",
       "      <th>Persons-1831</th>\n",
       "      <th>Persons-1841</th>\n",
       "      <th>Persons-1851</th>\n",
       "      <th>Persons-1861</th>\n",
       "      <th>Persons-1871</th>\n",
       "      <th>Persons-1881</th>\n",
       "      <th>Persons-1891</th>\n",
       "      <th>...</th>\n",
       "      <th>Persons-1921</th>\n",
       "      <th>Persons-1931</th>\n",
       "      <th>Persons-1939</th>\n",
       "      <th>Persons-1951</th>\n",
       "      <th>Persons-1961</th>\n",
       "      <th>Persons-1971</th>\n",
       "      <th>Persons-1981</th>\n",
       "      <th>Persons-1991</th>\n",
       "      <th>Persons-2001</th>\n",
       "      <th>Persons-2011</th>\n",
       "    </tr>\n",
       "  </thead>\n",
       "  <tbody>\n",
       "    <tr>\n",
       "      <th>City of London</th>\n",
       "      <td>129000</td>\n",
       "      <td>121000</td>\n",
       "      <td>125000</td>\n",
       "      <td>123000</td>\n",
       "      <td>124000</td>\n",
       "      <td>128000</td>\n",
       "      <td>112000</td>\n",
       "      <td>75000</td>\n",
       "      <td>51000</td>\n",
       "      <td>38000</td>\n",
       "      <td>...</td>\n",
       "      <td>14000</td>\n",
       "      <td>11000</td>\n",
       "      <td>9000</td>\n",
       "      <td>5000</td>\n",
       "      <td>4767</td>\n",
       "      <td>4000</td>\n",
       "      <td>5864</td>\n",
       "      <td>4230</td>\n",
       "      <td>7181</td>\n",
       "      <td>7375</td>\n",
       "    </tr>\n",
       "    <tr>\n",
       "      <th>Barking and Dagenham</th>\n",
       "      <td>3000</td>\n",
       "      <td>4000</td>\n",
       "      <td>5000</td>\n",
       "      <td>6000</td>\n",
       "      <td>7000</td>\n",
       "      <td>8000</td>\n",
       "      <td>8000</td>\n",
       "      <td>10000</td>\n",
       "      <td>13000</td>\n",
       "      <td>19000</td>\n",
       "      <td>...</td>\n",
       "      <td>44000</td>\n",
       "      <td>138000</td>\n",
       "      <td>184000</td>\n",
       "      <td>189000</td>\n",
       "      <td>177092</td>\n",
       "      <td>161000</td>\n",
       "      <td>149786</td>\n",
       "      <td>140728</td>\n",
       "      <td>163944</td>\n",
       "      <td>185911</td>\n",
       "    </tr>\n",
       "    <tr>\n",
       "      <th>Barnet</th>\n",
       "      <td>8000</td>\n",
       "      <td>9000</td>\n",
       "      <td>11000</td>\n",
       "      <td>13000</td>\n",
       "      <td>14000</td>\n",
       "      <td>15000</td>\n",
       "      <td>20000</td>\n",
       "      <td>29000</td>\n",
       "      <td>41000</td>\n",
       "      <td>58000</td>\n",
       "      <td>...</td>\n",
       "      <td>147000</td>\n",
       "      <td>231000</td>\n",
       "      <td>296000</td>\n",
       "      <td>320000</td>\n",
       "      <td>318373</td>\n",
       "      <td>307000</td>\n",
       "      <td>293436</td>\n",
       "      <td>284106</td>\n",
       "      <td>314565</td>\n",
       "      <td>356386</td>\n",
       "    </tr>\n",
       "    <tr>\n",
       "      <th>Bexley</th>\n",
       "      <td>5000</td>\n",
       "      <td>6000</td>\n",
       "      <td>7000</td>\n",
       "      <td>9000</td>\n",
       "      <td>11000</td>\n",
       "      <td>12000</td>\n",
       "      <td>15000</td>\n",
       "      <td>22000</td>\n",
       "      <td>29000</td>\n",
       "      <td>37000</td>\n",
       "      <td>...</td>\n",
       "      <td>76000</td>\n",
       "      <td>95000</td>\n",
       "      <td>179000</td>\n",
       "      <td>205000</td>\n",
       "      <td>209893</td>\n",
       "      <td>217000</td>\n",
       "      <td>215233</td>\n",
       "      <td>211404</td>\n",
       "      <td>218301</td>\n",
       "      <td>231997</td>\n",
       "    </tr>\n",
       "    <tr>\n",
       "      <th>Brent</th>\n",
       "      <td>2000</td>\n",
       "      <td>2000</td>\n",
       "      <td>3000</td>\n",
       "      <td>3000</td>\n",
       "      <td>5000</td>\n",
       "      <td>5000</td>\n",
       "      <td>6000</td>\n",
       "      <td>19000</td>\n",
       "      <td>31000</td>\n",
       "      <td>65000</td>\n",
       "      <td>...</td>\n",
       "      <td>184000</td>\n",
       "      <td>251000</td>\n",
       "      <td>310000</td>\n",
       "      <td>311000</td>\n",
       "      <td>295893</td>\n",
       "      <td>281000</td>\n",
       "      <td>253275</td>\n",
       "      <td>227903</td>\n",
       "      <td>263466</td>\n",
       "      <td>311215</td>\n",
       "    </tr>\n",
       "  </tbody>\n",
       "</table>\n",
       "<p>5 rows × 22 columns</p>\n",
       "</div>"
      ],
      "text/plain": [
       "                      Persons-1801  Persons-1811  Persons-1821  Persons-1831  \\\n",
       "City of London              129000        121000        125000        123000   \n",
       "Barking and Dagenham          3000          4000          5000          6000   \n",
       "Barnet                        8000          9000         11000         13000   \n",
       "Bexley                        5000          6000          7000          9000   \n",
       "Brent                         2000          2000          3000          3000   \n",
       "\n",
       "                      Persons-1841  Persons-1851  Persons-1861  Persons-1871  \\\n",
       "City of London              124000        128000        112000         75000   \n",
       "Barking and Dagenham          7000          8000          8000         10000   \n",
       "Barnet                       14000         15000         20000         29000   \n",
       "Bexley                       11000         12000         15000         22000   \n",
       "Brent                         5000          5000          6000         19000   \n",
       "\n",
       "                      Persons-1881  Persons-1891  ...  Persons-1921  \\\n",
       "City of London               51000         38000  ...         14000   \n",
       "Barking and Dagenham         13000         19000  ...         44000   \n",
       "Barnet                       41000         58000  ...        147000   \n",
       "Bexley                       29000         37000  ...         76000   \n",
       "Brent                        31000         65000  ...        184000   \n",
       "\n",
       "                      Persons-1931  Persons-1939  Persons-1951  Persons-1961  \\\n",
       "City of London               11000          9000          5000          4767   \n",
       "Barking and Dagenham        138000        184000        189000        177092   \n",
       "Barnet                      231000        296000        320000        318373   \n",
       "Bexley                       95000        179000        205000        209893   \n",
       "Brent                       251000        310000        311000        295893   \n",
       "\n",
       "                      Persons-1971  Persons-1981  Persons-1991  Persons-2001  \\\n",
       "City of London                4000          5864          4230          7181   \n",
       "Barking and Dagenham        161000        149786        140728        163944   \n",
       "Barnet                      307000        293436        284106        314565   \n",
       "Bexley                      217000        215233        211404        218301   \n",
       "Brent                       281000        253275        227903        263466   \n",
       "\n",
       "                      Persons-2011  \n",
       "City of London                7375  \n",
       "Barking and Dagenham        185911  \n",
       "Barnet                      356386  \n",
       "Bexley                      231997  \n",
       "Brent                       311215  \n",
       "\n",
       "[5 rows x 22 columns]"
      ]
     },
     "execution_count": 11,
     "metadata": {},
     "output_type": "execute_result"
    }
   ],
   "source": [
    "pop_11.head()"
   ]
  },
  {
   "cell_type": "code",
   "execution_count": 12,
   "metadata": {},
   "outputs": [],
   "source": [
    "pop_11=pop_11.drop(pop_11.loc[:,'Persons-1801':'Persons-2001'],axis=1)"
   ]
  },
  {
   "cell_type": "code",
   "execution_count": 13,
   "metadata": {},
   "outputs": [],
   "source": [
    "pop_11['Persons-2011']=pop_11['Persons-2011'].astype(str).str.replace(',','')\n",
    "pop_11['Persons-2011'] = pd.to_numeric(pop_11['Persons-2011'],errors='coerce')"
   ]
  },
  {
   "cell_type": "code",
   "execution_count": 14,
   "metadata": {},
   "outputs": [
    {
     "data": {
      "text/html": [
       "<div>\n",
       "<style scoped>\n",
       "    .dataframe tbody tr th:only-of-type {\n",
       "        vertical-align: middle;\n",
       "    }\n",
       "\n",
       "    .dataframe tbody tr th {\n",
       "        vertical-align: top;\n",
       "    }\n",
       "\n",
       "    .dataframe thead th {\n",
       "        text-align: right;\n",
       "    }\n",
       "</style>\n",
       "<table border=\"1\" class=\"dataframe\">\n",
       "  <thead>\n",
       "    <tr style=\"text-align: right;\">\n",
       "      <th></th>\n",
       "      <th>Persons-2011</th>\n",
       "    </tr>\n",
       "  </thead>\n",
       "  <tbody>\n",
       "    <tr>\n",
       "      <th>City of London</th>\n",
       "      <td>7375</td>\n",
       "    </tr>\n",
       "    <tr>\n",
       "      <th>Barking and Dagenham</th>\n",
       "      <td>185911</td>\n",
       "    </tr>\n",
       "    <tr>\n",
       "      <th>Barnet</th>\n",
       "      <td>356386</td>\n",
       "    </tr>\n",
       "    <tr>\n",
       "      <th>Bexley</th>\n",
       "      <td>231997</td>\n",
       "    </tr>\n",
       "    <tr>\n",
       "      <th>Brent</th>\n",
       "      <td>311215</td>\n",
       "    </tr>\n",
       "  </tbody>\n",
       "</table>\n",
       "</div>"
      ],
      "text/plain": [
       "                      Persons-2011\n",
       "City of London                7375\n",
       "Barking and Dagenham        185911\n",
       "Barnet                      356386\n",
       "Bexley                      231997\n",
       "Brent                       311215"
      ]
     },
     "execution_count": 14,
     "metadata": {},
     "output_type": "execute_result"
    }
   ],
   "source": [
    "pop_11.head()"
   ]
  },
  {
   "cell_type": "markdown",
   "metadata": {},
   "source": [
    "__Join all data__\n",
    "\n",
    "join housing price, total crime, and population. \n",
    "Calculate crime rate.\n",
    "Note this definition of crime rate does not take account in the case of single person committed multiple crimes. "
   ]
  },
  {
   "cell_type": "code",
   "execution_count": 15,
   "metadata": {},
   "outputs": [],
   "source": [
    "joint= housing_11.join(crime_11_tot,how='inner',on='Area')\n",
    "joint=joint.join(pop_11,how='inner',on='Area')"
   ]
  },
  {
   "cell_type": "code",
   "execution_count": 16,
   "metadata": {},
   "outputs": [],
   "source": [
    "joint.insert(len(joint.columns),'crime rate', value = joint['2011_total_crime']/joint['Persons-2011'])"
   ]
  },
  {
   "cell_type": "code",
   "execution_count": 17,
   "metadata": {},
   "outputs": [
    {
     "data": {
      "text/html": [
       "<div>\n",
       "<style scoped>\n",
       "    .dataframe tbody tr th:only-of-type {\n",
       "        vertical-align: middle;\n",
       "    }\n",
       "\n",
       "    .dataframe tbody tr th {\n",
       "        vertical-align: top;\n",
       "    }\n",
       "\n",
       "    .dataframe thead th {\n",
       "        text-align: right;\n",
       "    }\n",
       "</style>\n",
       "<table border=\"1\" class=\"dataframe\">\n",
       "  <thead>\n",
       "    <tr style=\"text-align: right;\">\n",
       "      <th></th>\n",
       "      <th>Code</th>\n",
       "      <th>Area</th>\n",
       "      <th>median housing price</th>\n",
       "      <th>2011_total_crime</th>\n",
       "      <th>Persons-2011</th>\n",
       "      <th>crime rate</th>\n",
       "    </tr>\n",
       "  </thead>\n",
       "  <tbody>\n",
       "    <tr>\n",
       "      <th>1</th>\n",
       "      <td>E09000002</td>\n",
       "      <td>Barking and Dagenham</td>\n",
       "      <td>170000</td>\n",
       "      <td>18730</td>\n",
       "      <td>185911</td>\n",
       "      <td>0.100747</td>\n",
       "    </tr>\n",
       "    <tr>\n",
       "      <th>2</th>\n",
       "      <td>E09000003</td>\n",
       "      <td>Barnet</td>\n",
       "      <td>324000</td>\n",
       "      <td>26393</td>\n",
       "      <td>356386</td>\n",
       "      <td>0.074057</td>\n",
       "    </tr>\n",
       "    <tr>\n",
       "      <th>3</th>\n",
       "      <td>E09000004</td>\n",
       "      <td>Bexley</td>\n",
       "      <td>215000</td>\n",
       "      <td>12325</td>\n",
       "      <td>231997</td>\n",
       "      <td>0.053126</td>\n",
       "    </tr>\n",
       "    <tr>\n",
       "      <th>4</th>\n",
       "      <td>E09000005</td>\n",
       "      <td>Brent</td>\n",
       "      <td>300000</td>\n",
       "      <td>31206</td>\n",
       "      <td>311215</td>\n",
       "      <td>0.100272</td>\n",
       "    </tr>\n",
       "    <tr>\n",
       "      <th>5</th>\n",
       "      <td>E09000006</td>\n",
       "      <td>Bromley</td>\n",
       "      <td>275000</td>\n",
       "      <td>22140</td>\n",
       "      <td>309392</td>\n",
       "      <td>0.071560</td>\n",
       "    </tr>\n",
       "  </tbody>\n",
       "</table>\n",
       "</div>"
      ],
      "text/plain": [
       "        Code                  Area  median housing price  2011_total_crime  \\\n",
       "1  E09000002  Barking and Dagenham                170000             18730   \n",
       "2  E09000003                Barnet                324000             26393   \n",
       "3  E09000004                Bexley                215000             12325   \n",
       "4  E09000005                 Brent                300000             31206   \n",
       "5  E09000006               Bromley                275000             22140   \n",
       "\n",
       "   Persons-2011  crime rate  \n",
       "1        185911    0.100747  \n",
       "2        356386    0.074057  \n",
       "3        231997    0.053126  \n",
       "4        311215    0.100272  \n",
       "5        309392    0.071560  "
      ]
     },
     "execution_count": 17,
     "metadata": {},
     "output_type": "execute_result"
    }
   ],
   "source": [
    "joint.head()"
   ]
  },
  {
   "cell_type": "code",
   "execution_count": 41,
   "metadata": {},
   "outputs": [
    {
     "name": "stdout",
     "output_type": "stream",
     "text": [
      "Kensington and Chelsea\n",
      "Westminster\n",
      "Croydon\n",
      "Westminster\n"
     ]
    }
   ],
   "source": [
    "print(joint.Area[joint['median housing price'].idxmax()])\n",
    "print(joint.Area[joint['2011_total_crime'].idxmax()])\n",
    "print(joint.Area[joint['Persons-2011'].idxmax()])\n",
    "print(joint.Area[joint['crime rate'].idxmax()])"
   ]
  },
  {
   "cell_type": "code",
   "execution_count": 35,
   "metadata": {},
   "outputs": [
    {
     "data": {
      "image/png": "[encoded data removed]",
      "text/plain": [
       "<Figure size 432x288 with 1 Axes>"
      ]
     },
     "metadata": {
      "needs_background": "light"
     },
     "output_type": "display_data"
    }
   ],
   "source": [
    "plt.boxplot(joint['median housing price'])\n",
    "plt.ylabel('median housing price in pounds')\n",
    "plt.show()"
   ]
  },
  {
   "cell_type": "code",
   "execution_count": 36,
   "metadata": {},
   "outputs": [
    {
     "data": {
      "text/plain": [
       "Text(0, 0.5, 'total number of crimes')"
      ]
     },
     "execution_count": 36,
     "metadata": {},
     "output_type": "execute_result"
    },
    {
     "data": {
      "image/png": "[encoded data removed]",
      "text/plain": [
       "<Figure size 432x288 with 1 Axes>"
      ]
     },
     "metadata": {
      "needs_background": "light"
     },
     "output_type": "display_data"
    }
   ],
   "source": [
    "plt.boxplot(joint['2011_total_crime'])\n",
    "plt.ylabel('total number of crimes')"
   ]
  },
  {
   "cell_type": "code",
   "execution_count": 40,
   "metadata": {},
   "outputs": [
    {
     "data": {
      "text/plain": [
       "Text(0, 0.5, 'population')"
      ]
     },
     "execution_count": 40,
     "metadata": {},
     "output_type": "execute_result"
    },
    {
     "data": {
      "image/png": "[encoded data removed]",
      "text/plain": [
       "<Figure size 432x288 with 1 Axes>"
      ]
     },
     "metadata": {
      "needs_background": "light"
     },
     "output_type": "display_data"
    }
   ],
   "source": [
    "plt.boxplot(joint['Persons-2011'])\n",
    "plt.ylabel('population')"
   ]
  },
  {
   "cell_type": "code",
   "execution_count": 39,
   "metadata": {},
   "outputs": [
    {
     "data": {
      "text/plain": [
       "Text(0, 0.5, 'number of crime per person')"
      ]
     },
     "execution_count": 39,
     "metadata": {},
     "output_type": "execute_result"
    },
    {
     "data": {
      "image/png": "[encoded data removed]",
      "text/plain": [
       "<Figure size 432x288 with 1 Axes>"
      ]
     },
     "metadata": {
      "needs_background": "light"
     },
     "output_type": "display_data"
    }
   ],
   "source": [
    "plt.boxplot(joint['crime rate'])\n",
    "plt.ylabel('number of crime per person')"
   ]
  },
  {
   "cell_type": "code",
   "execution_count": null,
   "metadata": {},
   "outputs": [],
   "source": []
  },
  {
   "cell_type": "code",
   "execution_count": 21,
   "metadata": {},
   "outputs": [
    {
     "data": {
      "text/plain": [
       "Text(0.5, 1.0, 'Each point is a borough')"
      ]
     },
     "execution_count": 21,
     "metadata": {},
     "output_type": "execute_result"
    },
    {
     "data": {
      "image/png": "[encoded data removed]",
      "text/plain": [
       "<Figure size 432x288 with 1 Axes>"
      ]
     },
     "metadata": {
      "needs_background": "light"
     },
     "output_type": "display_data"
    }
   ],
   "source": [
    "plt.scatter(joint['median housing price'],joint['crime rate'])\n",
    "plt.xlabel('Median House Prices, 2011')\n",
    "plt.ylabel('crime rate 2011')\n",
    "plt.title('Each point is a borough')"
   ]
  },
  {
   "cell_type": "code",
   "execution_count": 22,
   "metadata": {},
   "outputs": [
    {
     "name": "stdout",
     "output_type": "stream",
     "text": [
      "polyfit Rsq =  0.3467627708623231\n"
     ]
    },
    {
     "data": {
      "image/png": "[encoded data removed]",
      "text/plain": [
       "<Figure size 432x288 with 1 Axes>"
      ]
     },
     "metadata": {
      "needs_background": "light"
     },
     "output_type": "display_data"
    }
   ],
   "source": [
    "X,Y=joint['median housing price'],joint['crime rate']\n",
    "\n",
    "slope, intercept, r_value, p_value, std_err = sps.linregress(X, Y) \n",
    "#f = plt.plot(X, X*slope + intercept, 'r', label = 'cases per pop line') # Plot the regression line.\n",
    "f, res, _, _, _ = np.polyfit(X,Y,1, full=True)\n",
    "poly = np.poly1d(f)\n",
    "new_Y=poly(X)\n",
    "plt.scatter(X,Y)\n",
    "plt.plot(X,new_Y)\n",
    "\n",
    "print(\"polyfit Rsq = \", sklearn.metrics.r2_score(Y, poly(X)))\n"
   ]
  },
  {
   "cell_type": "code",
   "execution_count": null,
   "metadata": {},
   "outputs": [],
   "source": []
  },
  {
   "cell_type": "code",
   "execution_count": null,
   "metadata": {},
   "outputs": [],
   "source": []
  },
  {
   "cell_type": "code",
   "execution_count": null,
   "metadata": {},
   "outputs": [],
   "source": []
  },
  {
   "cell_type": "code",
   "execution_count": null,
   "metadata": {},
   "outputs": [],
   "source": []
  },
  {
   "cell_type": "code",
   "execution_count": null,
   "metadata": {},
   "outputs": [],
   "source": []
  },
  {
   "cell_type": "code",
   "execution_count": null,
   "metadata": {},
   "outputs": [],
   "source": []
  },
  {
   "cell_type": "code",
   "execution_count": null,
   "metadata": {},
   "outputs": [],
   "source": []
  }
 ],
 "metadata": {
  "kernelspec": {
   "display_name": "Python 3",
   "language": "python",
   "name": "python3"
  },
  "language_info": {
   "codemirror_mode": {
    "name": "ipython",
    "version": 3
   },
   "file_extension": ".py",
   "mimetype": "text/x-python",
   "name": "python",
   "nbconvert_exporter": "python",
   "pygments_lexer": "ipython3",
   "version": "3.7.8"
  }
 },
 "nbformat": 4,
 "nbformat_minor": 4
}
